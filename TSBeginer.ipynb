{
 "cells": [
  {
   "cell_type": "markdown",
   "metadata": {},
   "source": [
    "## Q&A"
   ]
  },
  {
   "cell_type": "raw",
   "metadata": {},
   "source": [
    "3. When shouldn't we use Time Series Analysis?\n",
    "A. We don't need to apply Time series in atleast the following 2 cases:\n",
    "a) The dependant variable(y) (that is supposed to vary with time) is constant.\n",
    "b) The dependant variable(y) represent values that can be denoted as a mathematical function.\n",
    "\n",
    "5. What is Stationarity?\n",
    "A. Before applying any statistical model on a Time Series, the series has to be staionary, which means that, over different time periods,\n",
    "a) It should have constant mean.\n",
    "b) It should have constant variance or standard deviation.\n",
    "c) Auto-covariance should not depend on time.\n",
    "Trend & Seasonality are two reasons why a Time Series is not stationary & hence need to be corrected.\n",
    "\n",
    "6. Why does Time Series(TS) need to be stationary?\n",
    "A.a) If a TS has a particular behavior over a time interval, then there's a high probability that over a different interval, it will have same behavior, provided TS is stationary. This helps in forecasting accurately.\n",
    "b) Theories & Mathematical formulas ae more mature & easier to apply for as TS which is stationary.\n",
    "\n",
    "7. Tests to check if a series is stationary or not\n",
    "A. There are 2 ways to check for Stationarity of a TS:\n",
    "a) Rolling Statistics - Plot the moving avg or moving standard deviation to see if it varies with time. Its a visual technique.\n",
    "b) ADCF Test - Augmented Dickey–Fuller test is used to gives us various values that can help in identifying stationarity. The Null hypothesis says that a TS is non-stationary. It comprises of a Test Statistics & some critical values for some confidence levels. If the Test statistics is less than the critical values, we can reject the null hypothesis & say that the series is stationary. THE ADCF test also gives us a p-value. Acc to the null hypothesis, lower values of p is better.\n",
    "\n",
    "8. What is ARIMA model?\n",
    "A. ARIMA(Auto Regressive Integrated Moving Average) is a combination of 2 models AR(Auto Regressive) & MA(Moving Average). It has 3 hyperparameters - P(auto regressive lags),d(order of differentiation),Q(moving avg.) which respectively comes from the AR, I & MA components. The AR part is correlation between prev & current time periods. To smooth out the noise, the MA part is used. The I part binds together the AR & MA parts.\n",
    "\n",
    "9. How to find value of P & Q for ARIMA ?\n",
    "A. We need to take help of ACF(Auto Correlation Function) & PACF(Partial Auto Correlation Function) plots. ACF & PACF graphs are used to find value of P & Q for ARIMA. We need to check, for which value in x-axis, graph line drops to 0 in y-axis for 1st time.\n",
    "From PACF(at y=0), get P\n",
    "From ACF(at y=0), get Q\n",
    "\n",
    "10. What Is ADCF test?\n",
    "A. In statistics and econometrics, an augmented Dickey–Fuller test (ADF) tests the null hypothesis that a unit root is present in a time series sample. The alternative hypothesis is different depending on which version of the test is used, but is usually stationarity or trend-stationarity. It is an augmented version of the Dickey–Fuller test for a larger and more complicated set of time series models.\n",
    "\n",
    "The augmented Dickey–Fuller (ADF) statistic, used in the test, is a negative number. The more negative it is, the stronger the rejection of the hypothesis that there is a unit root at some level of confidence.\n",
    "\n",
    "p value(0<=p<=1) should be as low as possible. Critical values at different confidence intervals should be close to the Test statistics value.\n",
    "\n",
    "11. What is Exponential Smoothing?\n",
    "A. Exponential smoothing is a rule of thumb technique for smoothing time series data using the exponential window function. Whereas in the simple moving average the past observations are weighted equally, exponential functions are used to assign exponentially decreasing weights over time. It is an easily learned and easily applied procedure for making some determination based on prior assumptions by the user, such as seasonality. Exponential smoothing is often used for analysis of time-series data.\n",
    "\n",
    "The raw data sequence is often represented by  xt  beginning at time  t=0 , and the output of the exponential smoothing algorithm is commonly written as  st , which may be regarded as a best estimate of what the next value of  x  will be. When the sequence of observations begins at time  t=0 , the simplest form of exponential smoothing is given by the formulas:\n",
    "\n",
    "s0=x0 \n",
    "st=α∗xt+(1−α)∗st−1  ,  t>0 \n",
    "where  α  is the smoothing factor, and  0<α<1 .\n",
    "\n",
    "12. What is Exponential decay?\n",
    "A. A quantity is subject to exponential decay if it decreases at a rate proportional to its current value. Symbolically, this process can be expressed by the following differential equation, where N is the quantity and λ (lambda) is a positive rate called the exponential decay constant:\n",
    "\n",
    "dN/dt=−λN \n",
    "The solution to this equation (see derivation below) is:\n",
    "N(t)=N0∗e−λt \n",
    "where N(t) is the quantity at time t, and N0 = N(0) is the initial quantity, i.e. the quantity at time t = 0.\n",
    "\n",
    "Half Life is the time required for the decaying quantity to fall to one half of its initial value. It is denoted by  t1/2 . The half-life can be written in terms of the decay constant as:\n",
    "\n",
    "t1/2=ln(2)/λ"
   ]
  },
  {
   "cell_type": "markdown",
   "metadata": {},
   "source": [
    "## Lib"
   ]
  },
  {
   "cell_type": "code",
   "execution_count": 2,
   "metadata": {},
   "outputs": [],
   "source": [
    "from datetime import datetime\n",
    "import numpy as np\n",
    "import pandas as pd\n",
    "import matplotlib.pylab as plt\n",
    "%matplotlib inline\n",
    "from statsmodels.tsa.stattools import adfuller\n",
    "from statsmodels.tsa.stattools import acf, pacf\n",
    "from statsmodels.tsa.arima_model import ARIMA\n",
    "from matplotlib.pylab import rcParams\n",
    "rcParams['figure.figsize'] = 10, 6"
   ]
  },
  {
   "cell_type": "code",
   "execution_count": 5,
   "metadata": {},
   "outputs": [],
   "source": [
    "path = \"C:/Users/xiaop/Dropbox/workspace/TSKaggle/AirPassengers.csv\"\n",
    "data = pd.read_csv(path)"
   ]
  },
  {
   "cell_type": "code",
   "execution_count": 7,
   "metadata": {},
   "outputs": [
    {
     "data": {
      "text/html": [
       "<div>\n",
       "<style scoped>\n",
       "    .dataframe tbody tr th:only-of-type {\n",
       "        vertical-align: middle;\n",
       "    }\n",
       "\n",
       "    .dataframe tbody tr th {\n",
       "        vertical-align: top;\n",
       "    }\n",
       "\n",
       "    .dataframe thead th {\n",
       "        text-align: right;\n",
       "    }\n",
       "</style>\n",
       "<table border=\"1\" class=\"dataframe\">\n",
       "  <thead>\n",
       "    <tr style=\"text-align: right;\">\n",
       "      <th></th>\n",
       "      <th>Month</th>\n",
       "      <th>#Passengers</th>\n",
       "    </tr>\n",
       "  </thead>\n",
       "  <tbody>\n",
       "    <tr>\n",
       "      <th>0</th>\n",
       "      <td>1949-01</td>\n",
       "      <td>112</td>\n",
       "    </tr>\n",
       "    <tr>\n",
       "      <th>1</th>\n",
       "      <td>1949-02</td>\n",
       "      <td>118</td>\n",
       "    </tr>\n",
       "    <tr>\n",
       "      <th>2</th>\n",
       "      <td>1949-03</td>\n",
       "      <td>132</td>\n",
       "    </tr>\n",
       "    <tr>\n",
       "      <th>3</th>\n",
       "      <td>1949-04</td>\n",
       "      <td>129</td>\n",
       "    </tr>\n",
       "    <tr>\n",
       "      <th>4</th>\n",
       "      <td>1949-05</td>\n",
       "      <td>121</td>\n",
       "    </tr>\n",
       "  </tbody>\n",
       "</table>\n",
       "</div>"
      ],
      "text/plain": [
       "     Month  #Passengers\n",
       "0  1949-01          112\n",
       "1  1949-02          118\n",
       "2  1949-03          132\n",
       "3  1949-04          129\n",
       "4  1949-05          121"
      ]
     },
     "execution_count": 7,
     "metadata": {},
     "output_type": "execute_result"
    }
   ],
   "source": [
    "data.head()"
   ]
  },
  {
   "cell_type": "code",
   "execution_count": 8,
   "metadata": {},
   "outputs": [
    {
     "data": {
      "text/html": [
       "<div>\n",
       "<style scoped>\n",
       "    .dataframe tbody tr th:only-of-type {\n",
       "        vertical-align: middle;\n",
       "    }\n",
       "\n",
       "    .dataframe tbody tr th {\n",
       "        vertical-align: top;\n",
       "    }\n",
       "\n",
       "    .dataframe thead th {\n",
       "        text-align: right;\n",
       "    }\n",
       "</style>\n",
       "<table border=\"1\" class=\"dataframe\">\n",
       "  <thead>\n",
       "    <tr style=\"text-align: right;\">\n",
       "      <th></th>\n",
       "      <th>#Passengers</th>\n",
       "    </tr>\n",
       "  </thead>\n",
       "  <tbody>\n",
       "    <tr>\n",
       "      <th>count</th>\n",
       "      <td>144.000000</td>\n",
       "    </tr>\n",
       "    <tr>\n",
       "      <th>mean</th>\n",
       "      <td>280.298611</td>\n",
       "    </tr>\n",
       "    <tr>\n",
       "      <th>std</th>\n",
       "      <td>119.966317</td>\n",
       "    </tr>\n",
       "    <tr>\n",
       "      <th>min</th>\n",
       "      <td>104.000000</td>\n",
       "    </tr>\n",
       "    <tr>\n",
       "      <th>25%</th>\n",
       "      <td>180.000000</td>\n",
       "    </tr>\n",
       "    <tr>\n",
       "      <th>50%</th>\n",
       "      <td>265.500000</td>\n",
       "    </tr>\n",
       "    <tr>\n",
       "      <th>75%</th>\n",
       "      <td>360.500000</td>\n",
       "    </tr>\n",
       "    <tr>\n",
       "      <th>max</th>\n",
       "      <td>622.000000</td>\n",
       "    </tr>\n",
       "  </tbody>\n",
       "</table>\n",
       "</div>"
      ],
      "text/plain": [
       "       #Passengers\n",
       "count   144.000000\n",
       "mean    280.298611\n",
       "std     119.966317\n",
       "min     104.000000\n",
       "25%     180.000000\n",
       "50%     265.500000\n",
       "75%     360.500000\n",
       "max     622.000000"
      ]
     },
     "execution_count": 8,
     "metadata": {},
     "output_type": "execute_result"
    }
   ],
   "source": [
    "data.describe()"
   ]
  },
  {
   "cell_type": "code",
   "execution_count": 10,
   "metadata": {},
   "outputs": [
    {
     "data": {
      "text/html": [
       "<div>\n",
       "<style scoped>\n",
       "    .dataframe tbody tr th:only-of-type {\n",
       "        vertical-align: middle;\n",
       "    }\n",
       "\n",
       "    .dataframe tbody tr th {\n",
       "        vertical-align: top;\n",
       "    }\n",
       "\n",
       "    .dataframe thead th {\n",
       "        text-align: right;\n",
       "    }\n",
       "</style>\n",
       "<table border=\"1\" class=\"dataframe\">\n",
       "  <thead>\n",
       "    <tr style=\"text-align: right;\">\n",
       "      <th></th>\n",
       "      <th>#Passengers</th>\n",
       "    </tr>\n",
       "    <tr>\n",
       "      <th>Month</th>\n",
       "      <th></th>\n",
       "    </tr>\n",
       "  </thead>\n",
       "  <tbody>\n",
       "    <tr>\n",
       "      <th>1949-01-01</th>\n",
       "      <td>112</td>\n",
       "    </tr>\n",
       "    <tr>\n",
       "      <th>1949-02-01</th>\n",
       "      <td>118</td>\n",
       "    </tr>\n",
       "    <tr>\n",
       "      <th>1949-03-01</th>\n",
       "      <td>132</td>\n",
       "    </tr>\n",
       "    <tr>\n",
       "      <th>1949-04-01</th>\n",
       "      <td>129</td>\n",
       "    </tr>\n",
       "    <tr>\n",
       "      <th>1949-05-01</th>\n",
       "      <td>121</td>\n",
       "    </tr>\n",
       "    <tr>\n",
       "      <th>1949-06-01</th>\n",
       "      <td>135</td>\n",
       "    </tr>\n",
       "    <tr>\n",
       "      <th>1949-07-01</th>\n",
       "      <td>148</td>\n",
       "    </tr>\n",
       "    <tr>\n",
       "      <th>1949-08-01</th>\n",
       "      <td>148</td>\n",
       "    </tr>\n",
       "    <tr>\n",
       "      <th>1949-09-01</th>\n",
       "      <td>136</td>\n",
       "    </tr>\n",
       "    <tr>\n",
       "      <th>1949-10-01</th>\n",
       "      <td>119</td>\n",
       "    </tr>\n",
       "  </tbody>\n",
       "</table>\n",
       "</div>"
      ],
      "text/plain": [
       "            #Passengers\n",
       "Month                  \n",
       "1949-01-01          112\n",
       "1949-02-01          118\n",
       "1949-03-01          132\n",
       "1949-04-01          129\n",
       "1949-05-01          121\n",
       "1949-06-01          135\n",
       "1949-07-01          148\n",
       "1949-08-01          148\n",
       "1949-09-01          136\n",
       "1949-10-01          119"
      ]
     },
     "execution_count": 10,
     "metadata": {},
     "output_type": "execute_result"
    }
   ],
   "source": [
    "data['Month'] = pd.to_datetime(data['Month'], infer_datetime_format=True)\n",
    "indexedData = data.set_index(['Month'])\n",
    "indexedData.head(10)"
   ]
  },
  {
   "cell_type": "code",
   "execution_count": 11,
   "metadata": {},
   "outputs": [
    {
     "data": {
      "text/plain": [
       "[<matplotlib.lines.Line2D at 0x21edcb8ab00>]"
      ]
     },
     "execution_count": 11,
     "metadata": {},
     "output_type": "execute_result"
    },
    {
     "data": {
      "image/png": "[encoded data removed]",
      "text/plain": [
       "<Figure size 720x432 with 1 Axes>"
      ]
     },
     "metadata": {
      "needs_background": "light"
     },
     "output_type": "display_data"
    }
   ],
   "source": [
    "plt.xlabel('Date')\n",
    "plt.ylabel('Number of airpassengers')\n",
    "plt.plot(indexedData)"
   ]
  },
  {
   "cell_type": "code",
   "execution_count": 12,
   "metadata": {},
   "outputs": [
    {
     "name": "stdout",
     "output_type": "stream",
     "text": [
      "            #Passengers\n",
      "Month                  \n",
      "1949-01-01          NaN\n",
      "1949-02-01          NaN\n",
      "1949-03-01          NaN\n",
      "1949-04-01          NaN\n",
      "1949-05-01          NaN\n",
      "1949-06-01          NaN\n",
      "1949-07-01          NaN\n",
      "1949-08-01          NaN\n",
      "1949-09-01          NaN\n",
      "1949-10-01          NaN\n",
      "1949-11-01          NaN\n",
      "1949-12-01   126.666667\n",
      "1950-01-01   126.916667\n",
      "1950-02-01   127.583333\n",
      "1950-03-01   128.333333\n",
      "1950-04-01   128.833333\n",
      "1950-05-01   129.166667\n",
      "1950-06-01   130.333333\n",
      "1950-07-01   132.166667\n",
      "1950-08-01   134.000000\n",
      "1950-09-01   135.833333\n",
      "1950-10-01   137.000000\n",
      "1950-11-01   137.833333\n",
      "1950-12-01   139.666667\n",
      "1951-01-01   142.166667\n",
      "1951-02-01   144.166667\n",
      "1951-03-01   147.250000\n",
      "1951-04-01   149.583333\n",
      "1951-05-01   153.500000\n",
      "1951-06-01   155.916667\n",
      "...                 ...\n",
      "1958-07-01   376.333333\n",
      "1958-08-01   379.500000\n",
      "1958-09-01   379.500000\n",
      "1958-10-01   380.500000\n",
      "1958-11-01   380.916667\n",
      "1958-12-01   381.000000\n",
      "1959-01-01   382.666667\n",
      "1959-02-01   384.666667\n",
      "1959-03-01   388.333333\n",
      "1959-04-01   392.333333\n",
      "1959-05-01   397.083333\n",
      "1959-06-01   400.166667\n",
      "1959-07-01   404.916667\n",
      "1959-08-01   409.416667\n",
      "1959-09-01   414.333333\n",
      "1959-10-01   418.333333\n",
      "1959-11-01   422.666667\n",
      "1959-12-01   428.333333\n",
      "1960-01-01   433.083333\n",
      "1960-02-01   437.166667\n",
      "1960-03-01   438.250000\n",
      "1960-04-01   443.666667\n",
      "1960-05-01   448.000000\n",
      "1960-06-01   453.250000\n",
      "1960-07-01   459.416667\n",
      "1960-08-01   463.333333\n",
      "1960-09-01   467.083333\n",
      "1960-10-01   471.583333\n",
      "1960-11-01   473.916667\n",
      "1960-12-01   476.166667\n",
      "\n",
      "[144 rows x 1 columns]             #Passengers\n",
      "Month                  \n",
      "1949-01-01          NaN\n",
      "1949-02-01          NaN\n",
      "1949-03-01          NaN\n",
      "1949-04-01          NaN\n",
      "1949-05-01          NaN\n",
      "1949-06-01          NaN\n",
      "1949-07-01          NaN\n",
      "1949-08-01          NaN\n",
      "1949-09-01          NaN\n",
      "1949-10-01          NaN\n",
      "1949-11-01          NaN\n",
      "1949-12-01    13.720147\n",
      "1950-01-01    13.453342\n",
      "1950-02-01    13.166475\n",
      "1950-03-01    13.686977\n",
      "1950-04-01    13.822467\n",
      "1950-05-01    13.663710\n",
      "1950-06-01    14.760718\n",
      "1950-07-01    18.135016\n",
      "1950-08-01    20.797727\n",
      "1950-09-01    21.928949\n",
      "1950-10-01    21.315807\n",
      "1950-11-01    20.067311\n",
      "1950-12-01    19.070841\n",
      "1951-01-01    17.439940\n",
      "1951-02-01    16.781122\n",
      "1951-03-01    19.349066\n",
      "1951-04-01    19.425655\n",
      "1951-05-01    18.744696\n",
      "1951-06-01    19.942911\n",
      "...                 ...\n",
      "1958-07-01    59.590013\n",
      "1958-08-01    65.557054\n",
      "1958-09-01    65.557054\n",
      "1958-10-01    65.106207\n",
      "1958-11-01    64.593074\n",
      "1958-12-01    64.530472\n",
      "1959-01-01    63.627229\n",
      "1959-02-01    61.759553\n",
      "1959-03-01    61.597422\n",
      "1959-04-01    60.284678\n",
      "1959-05-01    60.008270\n",
      "1959-06-01    63.009138\n",
      "1959-07-01    71.987951\n",
      "1959-08-01    80.049369\n",
      "1959-09-01    81.485451\n",
      "1959-10-01    79.680422\n",
      "1959-11-01    74.498729\n",
      "1959-12-01    69.830097\n",
      "1960-01-01    66.624399\n",
      "1960-02-01    61.866180\n",
      "1960-03-01    61.382741\n",
      "1960-04-01    60.171472\n",
      "1960-05-01    60.184565\n",
      "1960-06-01    65.021849\n",
      "1960-07-01    77.194510\n",
      "1960-08-01    83.630500\n",
      "1960-09-01    84.617276\n",
      "1960-10-01    82.541954\n",
      "1960-11-01    79.502382\n",
      "1960-12-01    77.737125\n",
      "\n",
      "[144 rows x 1 columns]\n"
     ]
    }
   ],
   "source": [
    "rolmean = indexedData.rolling(window = 12).mean()\n",
    "rolstd = indexedData.rolling(window = 12).std()\n",
    "print(rolmean, rolstd)"
   ]
  },
  {
   "cell_type": "code",
   "execution_count": 16,
   "metadata": {},
   "outputs": [
    {
     "data": {
      "image/png": "[encoded data removed]",
      "text/plain": [
       "<Figure size 720x432 with 1 Axes>"
      ]
     },
     "metadata": {
      "needs_background": "light"
     },
     "output_type": "display_data"
    }
   ],
   "source": [
    "origin = plt.plot(indexedData, color = 'blue', label = 'Original')\n",
    "mean = plt.plot(rolmean, color = 'red', label = 'Rolling Mean')\n",
    "std = plt.plot(rolstd, color = 'black', label = 'Rolling Std')\n",
    "plt.legend(loc = 'best')\n",
    "plt.title('Rolling mean and std')\n",
    "plt.show(block = False)"
   ]
  },
  {
   "cell_type": "markdown",
   "metadata": {},
   "source": [
    "From the above graph, we see that rolling mean itself has a trend component even though rolling standard deviation is fairly constant with time. For our time series to be stationary, we need to ensure that both the rolling statistics ie: mean & std. dev. remain time invariant or constant with time. Thus the curves for both of them have to be parallel to the x-axis, which in our case is not so."
   ]
  },
  {
   "cell_type": "code",
   "execution_count": 18,
   "metadata": {},
   "outputs": [
    {
     "name": "stdout",
     "output_type": "stream",
     "text": [
      "(0.8153688792060543, 0.9918802434376411, 13, 130, {'1%': -3.4816817173418295, '5%': -2.8840418343195267, '10%': -2.578770059171598}, 996.692930839019)\n"
     ]
    }
   ],
   "source": [
    "# Augmented Dickey–Fuller test\n",
    "dftest = adfuller(indexedData['#Passengers'], autolag = 'AIC')\n",
    "print(dftest)"
   ]
  },
  {
   "cell_type": "code",
   "execution_count": 19,
   "metadata": {},
   "outputs": [
    {
     "name": "stdout",
     "output_type": "stream",
     "text": [
      "Test Statistic                   0.815369\n",
      "p-value                          0.991880\n",
      "#Lags Used                      13.000000\n",
      "Number of Observations Used    130.000000\n",
      "dtype: float64\n"
     ]
    }
   ],
   "source": [
    "dfoutput = pd.Series(dftest[0:4], index=['Test Statistic','p-value','#Lags Used','Number of Observations Used'])\n",
    "print(dfoutput)"
   ]
  },
  {
   "cell_type": "code",
   "execution_count": 20,
   "metadata": {},
   "outputs": [
    {
     "name": "stdout",
     "output_type": "stream",
     "text": [
      "Test Statistic                   0.815369\n",
      "p-value                          0.991880\n",
      "#Lags Used                      13.000000\n",
      "Number of Observations Used    130.000000\n",
      "Critical Value (1%)             -3.481682\n",
      "Critical Value (5%)             -2.884042\n",
      "Critical Value (10%)            -2.578770\n",
      "dtype: float64\n"
     ]
    }
   ],
   "source": [
    "for key, value in dftest[4].items():\n",
    "    dfoutput['Critical Value (%s)'%key]=value\n",
    "print(dfoutput)"
   ]
  },
  {
   "cell_type": "markdown",
   "metadata": {},
   "source": [
    "For a Time series to be stationary, its ADCF test should have:\n",
    "\n",
    "p-value to be low (according to the null hypothesis)\n",
    "The critical values at 1%,5%,10% confidence intervals should be as close as possible to the Test Statistics\n",
    "\n",
    "From the above ADCF test result, we see that p-value(at max can be 1.0) is very large. Also critical values are no where close to the Test Statistics. Hence, we can safely say that our Time Series at the moment is not stationary"
   ]
  },
  {
   "cell_type": "markdown",
   "metadata": {},
   "source": [
    "## to achieve stationary"
   ]
  },
  {
   "cell_type": "code",
   "execution_count": null,
   "metadata": {},
   "outputs": [],
   "source": []
  }
 ],
 "metadata": {
  "kernelspec": {
   "display_name": "Python 3",
   "language": "python",
   "name": "python3"
  },
  "language_info": {
   "codemirror_mode": {
    "name": "ipython",
    "version": 3
   },
   "file_extension": ".py",
   "mimetype": "text/x-python",
   "name": "python",
   "nbconvert_exporter": "python",
   "pygments_lexer": "ipython3",
   "version": "3.7.0"
  }
 },
 "nbformat": 4,
 "nbformat_minor": 2
}
